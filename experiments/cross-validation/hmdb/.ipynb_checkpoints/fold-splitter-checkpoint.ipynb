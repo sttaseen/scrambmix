{
 "cells": [
  {
   "cell_type": "code",
   "execution_count": 1,
   "id": "5cc82255-6127-487d-8b54-4e8167d97bc8",
   "metadata": {},
   "outputs": [],
   "source": [
    "import os\n",
    "import random"
   ]
  },
  {
   "cell_type": "code",
   "execution_count": 2,
   "id": "a71b04c1-4d52-497d-92ef-39acae99bc85",
   "metadata": {},
   "outputs": [],
   "source": [
    "os.chdir('./../../../data/hmdb51/')"
   ]
  },
  {
   "cell_type": "code",
   "execution_count": 3,
   "id": "bb6e6941-6c1f-46d9-891c-66c7af0763ff",
   "metadata": {},
   "outputs": [
    {
     "name": "stdout",
     "output_type": "stream",
     "text": [
      "annotation_test.txt   annotation_val.txt  folds\n",
      "annotation_train.txt  class_name.txt\t  rawframes\n"
     ]
    }
   ],
   "source": [
    "!ls"
   ]
  },
  {
   "cell_type": "code",
   "execution_count": 4,
   "id": "0b5da93f-df35-456f-9d02-3267ac14c43a",
   "metadata": {},
   "outputs": [
    {
     "name": "stdout",
     "output_type": "stream",
     "text": [
      "Train/test annotations created for each fold and saved in 'folds_train_test' directory.\n"
     ]
    }
   ],
   "source": [
    "import os\n",
    "\n",
    "# Directory where folds are saved\n",
    "fold_dir = \"folds\"\n",
    "fold_files = [os.path.join(fold_dir, f\"fold_{i + 1}.txt\") for i in range(5)]\n",
    "\n",
    "output_dir = \"\"\n",
    "os.makedirs(output_dir, exist_ok=True)\n",
    "\n",
    "# Generate train/test files for each fold\n",
    "for i, test_fold_file in enumerate(fold_files):\n",
    "    # Read the test fold\n",
    "    with open(test_fold_file, 'r') as f:\n",
    "        test_data = f.readlines()\n",
    "    \n",
    "    # Read and combine all other folds as train data\n",
    "    train_data = []\n",
    "    for j, fold_file in enumerate(fold_files):\n",
    "        if j != i:  # Skip the test fold\n",
    "            with open(fold_file, 'r') as f:\n",
    "                train_data.extend(f.readlines())\n",
    "    \n",
    "    # Save train and test files for this fold\n",
    "    train_file = os.path.join(output_dir, f\"annotation_train_fold_{i + 1}.txt\")\n",
    "    test_file = os.path.join(output_dir, f\"annotation_test_fold_{i + 1}.txt\")\n",
    "    \n",
    "    with open(train_file, 'w') as f:\n",
    "        f.writelines(train_data)\n",
    "    \n",
    "    with open(test_file, 'w') as f:\n",
    "        f.writelines(test_data)\n",
    "\n",
    "print(f\"Train/test annotations created for each fold and saved in '{output_dir}' directory.\")\n"
   ]
  }
 ],
 "metadata": {
  "kernelspec": {
   "display_name": "Python 3 (ipykernel)",
   "language": "python",
   "name": "python3"
  },
  "language_info": {
   "codemirror_mode": {
    "name": "ipython",
    "version": 3
   },
   "file_extension": ".py",
   "mimetype": "text/x-python",
   "name": "python",
   "nbconvert_exporter": "python",
   "pygments_lexer": "ipython3",
   "version": "3.8.19"
  }
 },
 "nbformat": 4,
 "nbformat_minor": 5
}
